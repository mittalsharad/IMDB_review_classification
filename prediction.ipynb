{
 "cells": [
  {
   "cell_type": "code",
   "execution_count": 1,
   "metadata": {},
   "outputs": [],
   "source": [
    "# Step 1: Import Libraries and Load the Model\n",
    "import numpy as np\n",
    "import tensorflow as tf\n",
    "from tensorflow.keras.datasets import imdb\n",
    "from tensorflow.keras.preprocessing import sequence\n",
    "from tensorflow.keras.models import load_model"
   ]
  },
  {
   "cell_type": "code",
   "execution_count": 2,
   "metadata": {},
   "outputs": [],
   "source": [
    "\n",
    "# Load the IMDB dataset word index\n",
    "word_index = imdb.get_word_index()\n",
    "reverse_word_index = {value: key for key, value in word_index.items()}"
   ]
  },
  {
   "cell_type": "code",
   "execution_count": 4,
   "metadata": {},
   "outputs": [
    {
     "data": {
      "text/html": [
       "<pre style=\"white-space:pre;overflow-x:auto;line-height:normal;font-family:Menlo,'DejaVu Sans Mono',consolas,'Courier New',monospace\"><span style=\"font-weight: bold\">Model: \"sequential\"</span>\n",
       "</pre>\n"
      ],
      "text/plain": [
       "\u001b[1mModel: \"sequential\"\u001b[0m\n"
      ]
     },
     "metadata": {},
     "output_type": "display_data"
    },
    {
     "data": {
      "text/html": [
       "<pre style=\"white-space:pre;overflow-x:auto;line-height:normal;font-family:Menlo,'DejaVu Sans Mono',consolas,'Courier New',monospace\">┏━━━━━━━━━━━━━━━━━━━━━━━━━━━━━━━━━┳━━━━━━━━━━━━━━━━━━━━━━━━┳━━━━━━━━━━━━━━━┓\n",
       "┃<span style=\"font-weight: bold\"> Layer (type)                    </span>┃<span style=\"font-weight: bold\"> Output Shape           </span>┃<span style=\"font-weight: bold\">       Param # </span>┃\n",
       "┡━━━━━━━━━━━━━━━━━━━━━━━━━━━━━━━━━╇━━━━━━━━━━━━━━━━━━━━━━━━╇━━━━━━━━━━━━━━━┩\n",
       "│ embedding (<span style=\"color: #0087ff; text-decoration-color: #0087ff\">Embedding</span>)           │ (<span style=\"color: #00d7ff; text-decoration-color: #00d7ff\">None</span>, <span style=\"color: #00af00; text-decoration-color: #00af00\">500</span>, <span style=\"color: #00af00; text-decoration-color: #00af00\">128</span>)       │     <span style=\"color: #00af00; text-decoration-color: #00af00\">1,280,000</span> │\n",
       "├─────────────────────────────────┼────────────────────────┼───────────────┤\n",
       "│ simple_rnn (<span style=\"color: #0087ff; text-decoration-color: #0087ff\">SimpleRNN</span>)          │ (<span style=\"color: #00d7ff; text-decoration-color: #00d7ff\">None</span>, <span style=\"color: #00af00; text-decoration-color: #00af00\">128</span>)            │        <span style=\"color: #00af00; text-decoration-color: #00af00\">32,896</span> │\n",
       "├─────────────────────────────────┼────────────────────────┼───────────────┤\n",
       "│ dense (<span style=\"color: #0087ff; text-decoration-color: #0087ff\">Dense</span>)                   │ (<span style=\"color: #00d7ff; text-decoration-color: #00d7ff\">None</span>, <span style=\"color: #00af00; text-decoration-color: #00af00\">1</span>)              │           <span style=\"color: #00af00; text-decoration-color: #00af00\">129</span> │\n",
       "└─────────────────────────────────┴────────────────────────┴───────────────┘\n",
       "</pre>\n"
      ],
      "text/plain": [
       "┏━━━━━━━━━━━━━━━━━━━━━━━━━━━━━━━━━┳━━━━━━━━━━━━━━━━━━━━━━━━┳━━━━━━━━━━━━━━━┓\n",
       "┃\u001b[1m \u001b[0m\u001b[1mLayer (type)                   \u001b[0m\u001b[1m \u001b[0m┃\u001b[1m \u001b[0m\u001b[1mOutput Shape          \u001b[0m\u001b[1m \u001b[0m┃\u001b[1m \u001b[0m\u001b[1m      Param #\u001b[0m\u001b[1m \u001b[0m┃\n",
       "┡━━━━━━━━━━━━━━━━━━━━━━━━━━━━━━━━━╇━━━━━━━━━━━━━━━━━━━━━━━━╇━━━━━━━━━━━━━━━┩\n",
       "│ embedding (\u001b[38;5;33mEmbedding\u001b[0m)           │ (\u001b[38;5;45mNone\u001b[0m, \u001b[38;5;34m500\u001b[0m, \u001b[38;5;34m128\u001b[0m)       │     \u001b[38;5;34m1,280,000\u001b[0m │\n",
       "├─────────────────────────────────┼────────────────────────┼───────────────┤\n",
       "│ simple_rnn (\u001b[38;5;33mSimpleRNN\u001b[0m)          │ (\u001b[38;5;45mNone\u001b[0m, \u001b[38;5;34m128\u001b[0m)            │        \u001b[38;5;34m32,896\u001b[0m │\n",
       "├─────────────────────────────────┼────────────────────────┼───────────────┤\n",
       "│ dense (\u001b[38;5;33mDense\u001b[0m)                   │ (\u001b[38;5;45mNone\u001b[0m, \u001b[38;5;34m1\u001b[0m)              │           \u001b[38;5;34m129\u001b[0m │\n",
       "└─────────────────────────────────┴────────────────────────┴───────────────┘\n"
      ]
     },
     "metadata": {},
     "output_type": "display_data"
    },
    {
     "data": {
      "text/html": [
       "<pre style=\"white-space:pre;overflow-x:auto;line-height:normal;font-family:Menlo,'DejaVu Sans Mono',consolas,'Courier New',monospace\"><span style=\"font-weight: bold\"> Total params: </span><span style=\"color: #00af00; text-decoration-color: #00af00\">3,939,077</span> (15.03 MB)\n",
       "</pre>\n"
      ],
      "text/plain": [
       "\u001b[1m Total params: \u001b[0m\u001b[38;5;34m3,939,077\u001b[0m (15.03 MB)\n"
      ]
     },
     "metadata": {},
     "output_type": "display_data"
    },
    {
     "data": {
      "text/html": [
       "<pre style=\"white-space:pre;overflow-x:auto;line-height:normal;font-family:Menlo,'DejaVu Sans Mono',consolas,'Courier New',monospace\"><span style=\"font-weight: bold\"> Trainable params: </span><span style=\"color: #00af00; text-decoration-color: #00af00\">1,313,025</span> (5.01 MB)\n",
       "</pre>\n"
      ],
      "text/plain": [
       "\u001b[1m Trainable params: \u001b[0m\u001b[38;5;34m1,313,025\u001b[0m (5.01 MB)\n"
      ]
     },
     "metadata": {},
     "output_type": "display_data"
    },
    {
     "data": {
      "text/html": [
       "<pre style=\"white-space:pre;overflow-x:auto;line-height:normal;font-family:Menlo,'DejaVu Sans Mono',consolas,'Courier New',monospace\"><span style=\"font-weight: bold\"> Non-trainable params: </span><span style=\"color: #00af00; text-decoration-color: #00af00\">0</span> (0.00 B)\n",
       "</pre>\n"
      ],
      "text/plain": [
       "\u001b[1m Non-trainable params: \u001b[0m\u001b[38;5;34m0\u001b[0m (0.00 B)\n"
      ]
     },
     "metadata": {},
     "output_type": "display_data"
    },
    {
     "data": {
      "text/html": [
       "<pre style=\"white-space:pre;overflow-x:auto;line-height:normal;font-family:Menlo,'DejaVu Sans Mono',consolas,'Courier New',monospace\"><span style=\"font-weight: bold\"> Optimizer params: </span><span style=\"color: #00af00; text-decoration-color: #00af00\">2,626,052</span> (10.02 MB)\n",
       "</pre>\n"
      ],
      "text/plain": [
       "\u001b[1m Optimizer params: \u001b[0m\u001b[38;5;34m2,626,052\u001b[0m (10.02 MB)\n"
      ]
     },
     "metadata": {},
     "output_type": "display_data"
    }
   ],
   "source": [
    "# Load the pre-trained model with ReLU activation\n",
    "model = load_model('simple_rnn_imdb.keras')\n",
    "model.summary()"
   ]
  },
  {
   "cell_type": "code",
   "execution_count": 5,
   "metadata": {},
   "outputs": [
    {
     "data": {
      "text/plain": [
       "[array([[ 0.28142685,  0.2204974 , -0.42888543, ...,  0.12894519,\n",
       "          0.26830935,  0.2597982 ],\n",
       "        [-0.01792152, -0.00475616, -0.03404244, ..., -0.02304393,\n",
       "          0.02804907,  0.00868715],\n",
       "        [ 0.04446224,  0.0142449 ,  0.02952385, ..., -0.01564687,\n",
       "         -0.02437028, -0.00849826],\n",
       "        ...,\n",
       "        [-0.03417085, -0.07449453,  0.01707537, ...,  0.030277  ,\n",
       "          0.02682393, -0.03157449],\n",
       "        [-0.02487455, -0.11340398,  0.06482954, ...,  0.03111441,\n",
       "         -0.03837514, -0.0137945 ],\n",
       "        [-0.07312229, -0.06105789,  0.07881556, ..., -0.04652144,\n",
       "         -0.09082744, -0.04447254]], dtype=float32),\n",
       " array([[ 0.16582704, -0.0832388 ,  0.12010188, ..., -0.4088713 ,\n",
       "          0.06745594,  0.12276202],\n",
       "        [ 0.11148494, -0.05967404,  0.1994385 , ..., -0.06209874,\n",
       "          0.04764177,  0.08375708],\n",
       "        [-0.19881009,  0.14562684, -0.0794239 , ...,  0.14637284,\n",
       "          0.00387905, -0.04386295],\n",
       "        ...,\n",
       "        [ 0.12523934, -0.09747703, -0.11880208, ...,  0.03633118,\n",
       "          0.17782542,  0.09167471],\n",
       "        [ 0.05466388, -0.12029468,  0.08299933, ..., -0.3034387 ,\n",
       "          0.33757317,  0.07297969],\n",
       "        [-0.01888084,  0.07306616,  0.11428987, ..., -0.3208508 ,\n",
       "          0.01628009, -0.08690519]], dtype=float32),\n",
       " array([[ 0.05386985, -0.11533411,  0.06961426, ..., -0.0640052 ,\n",
       "         -0.01438885,  0.04654698],\n",
       "        [ 0.01086862,  0.06876893,  0.05571358, ..., -0.05454812,\n",
       "          0.08909313, -0.15338112],\n",
       "        [-0.05292803, -0.18660611, -0.06696533, ..., -0.12089384,\n",
       "          0.22134064,  0.05536993],\n",
       "        ...,\n",
       "        [ 0.07508743, -0.00886588, -0.1789551 , ..., -0.01536391,\n",
       "         -0.04323088, -0.02913295],\n",
       "        [-0.04155089,  0.04895648,  0.15551741, ..., -0.16442268,\n",
       "         -0.02877169,  0.06123136],\n",
       "        [-0.1959507 ,  0.05191368, -0.00766204, ..., -0.07988612,\n",
       "          0.00468901,  0.29681227]], dtype=float32),\n",
       " array([-0.00815352, -0.03474373,  0.00535436,  0.01403737, -0.0066886 ,\n",
       "         0.06058951, -0.02864929,  0.01780236,  0.00869362, -0.01063589,\n",
       "        -0.00536488, -0.00980481,  0.01147859, -0.020642  ,  0.00686224,\n",
       "        -0.01767582, -0.00156601,  0.01197318,  0.00317266,  0.02107337,\n",
       "        -0.00695446, -0.01835629, -0.0152989 ,  0.03090041,  0.03470158,\n",
       "         0.03881458, -0.01415351,  0.0341306 ,  0.00104557, -0.01813005,\n",
       "        -0.0044993 ,  0.01564116,  0.01052845,  0.01415027, -0.00415686,\n",
       "         0.01724249,  0.02290863, -0.01240019,  0.00725689,  0.01377842,\n",
       "        -0.02841148, -0.04503792, -0.0136533 , -0.00410635,  0.02760222,\n",
       "         0.00643937, -0.0206202 , -0.00483884,  0.01664453, -0.00162551,\n",
       "         0.01805722,  0.00482173, -0.02008085,  0.01262658, -0.01144388,\n",
       "        -0.00698388,  0.01912374,  0.0457379 ,  0.01454973, -0.02690662,\n",
       "        -0.01596259,  0.0217484 , -0.0011063 ,  0.01304328,  0.00453229,\n",
       "        -0.00384758, -0.01063857, -0.00280038,  0.02565627,  0.00223853,\n",
       "        -0.02964148, -0.0173198 ,  0.01951703, -0.02905819,  0.00490094,\n",
       "         0.0174098 , -0.00606892,  0.0110439 ,  0.03002287, -0.01020504,\n",
       "         0.00055591,  0.04346037, -0.02916549,  0.00969504, -0.00109307,\n",
       "        -0.00426143, -0.02899058,  0.02325261,  0.00773543,  0.02520053,\n",
       "        -0.0187814 ,  0.0042855 , -0.05087839,  0.00824891, -0.03088436,\n",
       "        -0.01769174,  0.00396909,  0.04061744, -0.04047319, -0.00101293,\n",
       "         0.00912953,  0.04321633, -0.02378861, -0.01537865, -0.01532455,\n",
       "         0.01074013,  0.02942292, -0.0178249 ,  0.00961113,  0.02539418,\n",
       "        -0.00395937, -0.00032184, -0.02937835, -0.00587785,  0.03929952,\n",
       "        -0.01692027,  0.0193253 ,  0.04177853, -0.02135832, -0.05552005,\n",
       "         0.02551835,  0.01409221, -0.0282792 ,  0.00655273, -0.03087519,\n",
       "        -0.0271789 ,  0.01805136,  0.03282943], dtype=float32),\n",
       " array([[ 0.07763195],\n",
       "        [-0.07595534],\n",
       "        [-0.04950486],\n",
       "        [-0.17384695],\n",
       "        [-0.18670738],\n",
       "        [ 0.06588006],\n",
       "        [-0.15419811],\n",
       "        [-0.15141714],\n",
       "        [ 0.19837905],\n",
       "        [-0.10209635],\n",
       "        [ 0.01563142],\n",
       "        [ 0.13638385],\n",
       "        [ 0.20925532],\n",
       "        [ 0.10881197],\n",
       "        [ 0.11128169],\n",
       "        [-0.22880511],\n",
       "        [-0.20814867],\n",
       "        [ 0.08024902],\n",
       "        [ 0.06839529],\n",
       "        [ 0.05471108],\n",
       "        [-0.1361517 ],\n",
       "        [ 0.0980096 ],\n",
       "        [ 0.18706253],\n",
       "        [-0.11022057],\n",
       "        [-0.05490476],\n",
       "        [-0.08794791],\n",
       "        [-0.135651  ],\n",
       "        [ 0.07223327],\n",
       "        [ 0.1026836 ],\n",
       "        [ 0.06898403],\n",
       "        [ 0.33027297],\n",
       "        [ 0.06246062],\n",
       "        [ 0.14878356],\n",
       "        [-0.19258952],\n",
       "        [-0.1320546 ],\n",
       "        [ 0.22970125],\n",
       "        [ 0.1979519 ],\n",
       "        [-0.10386097],\n",
       "        [-0.16197756],\n",
       "        [-0.18979885],\n",
       "        [ 0.09330147],\n",
       "        [-0.14966445],\n",
       "        [-0.01007335],\n",
       "        [-0.15359735],\n",
       "        [ 0.12809238],\n",
       "        [-0.16873534],\n",
       "        [-0.12278121],\n",
       "        [-0.16593084],\n",
       "        [-0.13065024],\n",
       "        [-0.16887975],\n",
       "        [-0.20302382],\n",
       "        [-0.11392001],\n",
       "        [-0.02533197],\n",
       "        [ 0.18919784],\n",
       "        [ 0.08712006],\n",
       "        [-0.08613318],\n",
       "        [ 0.0193639 ],\n",
       "        [-0.2479419 ],\n",
       "        [ 0.25341207],\n",
       "        [-0.18680887],\n",
       "        [-0.06901407],\n",
       "        [-0.18961231],\n",
       "        [-0.03969565],\n",
       "        [-0.23674725],\n",
       "        [ 0.05378438],\n",
       "        [-0.02778292],\n",
       "        [ 0.17906734],\n",
       "        [-0.07724884],\n",
       "        [-0.13020048],\n",
       "        [ 0.07334676],\n",
       "        [ 0.17083503],\n",
       "        [-0.16836329],\n",
       "        [-0.00611468],\n",
       "        [-0.04765385],\n",
       "        [ 0.16655822],\n",
       "        [-0.16608475],\n",
       "        [ 0.16020998],\n",
       "        [ 0.09597198],\n",
       "        [-0.03109855],\n",
       "        [ 0.0740254 ],\n",
       "        [ 0.22880687],\n",
       "        [-0.06190194],\n",
       "        [-0.00718589],\n",
       "        [-0.12860067],\n",
       "        [ 0.22323976],\n",
       "        [ 0.22860143],\n",
       "        [ 0.096857  ],\n",
       "        [ 0.17033093],\n",
       "        [-0.13554923],\n",
       "        [ 0.06737529],\n",
       "        [-0.19431725],\n",
       "        [ 0.05141766],\n",
       "        [ 0.03854941],\n",
       "        [-0.14274663],\n",
       "        [ 0.13840593],\n",
       "        [-0.04151056],\n",
       "        [-0.01799859],\n",
       "        [-0.21600464],\n",
       "        [ 0.19583943],\n",
       "        [-0.12718903],\n",
       "        [ 0.1720239 ],\n",
       "        [ 0.03110465],\n",
       "        [-0.077887  ],\n",
       "        [-0.04455981],\n",
       "        [ 0.17394775],\n",
       "        [-0.01580225],\n",
       "        [ 0.08170682],\n",
       "        [-0.23784453],\n",
       "        [-0.19620267],\n",
       "        [-0.04949809],\n",
       "        [ 0.04727507],\n",
       "        [ 0.14400572],\n",
       "        [-0.3200671 ],\n",
       "        [-0.15282187],\n",
       "        [ 0.09251852],\n",
       "        [-0.34169504],\n",
       "        [ 0.19217382],\n",
       "        [ 0.00733645],\n",
       "        [ 0.12238514],\n",
       "        [ 0.20225593],\n",
       "        [ 0.0925544 ],\n",
       "        [ 0.11451878],\n",
       "        [-0.22149642],\n",
       "        [-0.19098482],\n",
       "        [-0.14192669],\n",
       "        [ 0.18428992],\n",
       "        [ 0.20166402],\n",
       "        [ 0.21833801]], dtype=float32),\n",
       " array([0.0352112], dtype=float32)]"
      ]
     },
     "execution_count": 5,
     "metadata": {},
     "output_type": "execute_result"
    }
   ],
   "source": [
    "model.get_weights()"
   ]
  },
  {
   "cell_type": "code",
   "execution_count": 6,
   "metadata": {},
   "outputs": [],
   "source": [
    "# Step 2: Helper Functions\n",
    "# Function to decode reviews\n",
    "def decode_review(encoded_review):\n",
    "    return ' '.join([reverse_word_index.get(i - 3, '?') for i in encoded_review])\n",
    "\n",
    "# Function to preprocess user input\n",
    "def preprocess_text(text):\n",
    "    words = text.lower().split()\n",
    "    encoded_review = [word_index.get(word, 2) + 3 for word in words]\n",
    "    padded_review = sequence.pad_sequences([encoded_review], maxlen=500)\n",
    "    return padded_review"
   ]
  },
  {
   "cell_type": "code",
   "execution_count": 7,
   "metadata": {},
   "outputs": [],
   "source": [
    "### Prediction  function\n",
    "\n",
    "def predict_sentiment(review):\n",
    "    preprocessed_input=preprocess_text(review)\n",
    "\n",
    "    prediction=model.predict(preprocessed_input)\n",
    "\n",
    "    sentiment = 'Positive' if prediction[0][0] > 0.5 else 'Negative'\n",
    "    \n",
    "    return sentiment, prediction[0][0]\n",
    "\n"
   ]
  },
  {
   "cell_type": "code",
   "execution_count": 8,
   "metadata": {},
   "outputs": [
    {
     "name": "stdout",
     "output_type": "stream",
     "text": [
      "\u001b[1m1/1\u001b[0m \u001b[32m━━━━━━━━━━━━━━━━━━━━\u001b[0m\u001b[37m\u001b[0m \u001b[1m0s\u001b[0m 132ms/step\n",
      "Review: This movie was fantastic! The acting was great and the plot was thrilling.\n",
      "Sentiment: Positive\n",
      "Prediction Score: 0.6770788431167603\n"
     ]
    }
   ],
   "source": [
    "# Step 4: User Input and Prediction\n",
    "# Example review for prediction\n",
    "example_review = \"This movie was fantastic! The acting was great and the plot was thrilling.\"\n",
    "\n",
    "sentiment,score=predict_sentiment(example_review)\n",
    "\n",
    "print(f'Review: {example_review}')\n",
    "print(f'Sentiment: {sentiment}')\n",
    "print(f'Prediction Score: {score}')"
   ]
  },
  {
   "cell_type": "code",
   "execution_count": null,
   "metadata": {},
   "outputs": [],
   "source": []
  }
 ],
 "metadata": {
  "kernelspec": {
   "display_name": "Python 3",
   "language": "python",
   "name": "python3"
  },
  "language_info": {
   "codemirror_mode": {
    "name": "ipython",
    "version": 3
   },
   "file_extension": ".py",
   "mimetype": "text/x-python",
   "name": "python",
   "nbconvert_exporter": "python",
   "pygments_lexer": "ipython3",
   "version": "3.12.0"
  }
 },
 "nbformat": 4,
 "nbformat_minor": 2
}
